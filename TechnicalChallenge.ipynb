{
 "cells": [
  {
   "cell_type": "markdown",
   "metadata": {},
   "source": [
    "# JSON and APIs\n",
    "\n",
    "_November 3, 2020_\n",
    "\n",
    "Agenda today:\n",
    "- Introduction to API and Remote Server Model \n",
    "- Getting data through an API: Case study with YELP API"
   ]
  },
  {
   "cell_type": "code",
   "execution_count": 1,
   "metadata": {},
   "outputs": [],
   "source": [
    "import pandas as pd\n",
    "import numpy as np\n",
    "import geopandas as gpd\n",
    "import requests\n",
    "import json\n",
    "#from yelp.client import Client\n",
    "import matplotlib.pyplot as plt\n",
    "plt.style.use('seaborn')"
   ]
  },
  {
   "cell_type": "markdown",
   "metadata": {},
   "source": [
    "## Part I. APIs and Remote Server Model\n",
    "API stands for Application Programming Interface. At some point or the other, large companies would build API for their products for their clients or internal use. It allows the company's application to communicate with another application. But what _exactly_ is an API?\n",
    "\n",
    "#### Remote server \n",
    "When we think about the world of Web, we can think of it as a collection of _servers_. And servers are nothing but huge computers that store a huge amount of data from users and are optimized to process requests. For example, when you type in www.facebook.com, your browser sends a _request_ to the Facebook server, and gets a response from the server, thus interpreting the code and displaying your homepage. \n",
    "\n",
    "In this case, your browser is the _client_, and Facebook’s server is an API. To put it broadly, whenever you visit a website, you are interacting with its API. However, an API isn’t the same as the remote server — rather it is the part of the server that receives __requests__ and sends __responses__.\n",
    "\n",
    "<img src='status-code.png' width = 500>"
   ]
  },
  {
   "cell_type": "markdown",
   "metadata": {},
   "source": [
    "## Part II. Getting Data Through APIs\n",
    "\n",
    "The `get()` method send a request to YELP's API, and stored information in a variable called `request`. Next, let's see if it's successful. "
   ]
  },
  {
   "cell_type": "markdown",
   "metadata": {},
   "source": [
    "#### YELP API\n",
    "Sometimes you need _authentication_ to get data from a service in additional to just sending a `GET()` request. Yelp API is a perfect example. \n",
    "\n",
    "You will need to go to the YELP's developer's [website](https://www.yelp.com/developers/v3/manage_app) and request for a client ID and API key, which function like a key into a house of data. \n",
    "\n",
    "<img src='yelp.png' width = 500>"
   ]
  },
  {
   "cell_type": "code",
   "execution_count": 2,
   "metadata": {},
   "outputs": [],
   "source": [
    "# lets try to get some data from yelp!\n",
    "url = 'https://api.yelp.com/v3/businesses/search'\n",
    "response = requests.get(url)"
   ]
  },
  {
   "cell_type": "code",
   "execution_count": 3,
   "metadata": {},
   "outputs": [
    {
     "data": {
      "text/plain": [
       "400"
      ]
     },
     "execution_count": 3,
     "metadata": {},
     "output_type": "execute_result"
    }
   ],
   "source": [
    "# check the status code\n",
    "response.status_code"
   ]
  },
  {
   "cell_type": "code",
   "execution_count": 4,
   "metadata": {
    "scrolled": true
   },
   "outputs": [],
   "source": [
    "# usually, services would limit you to a certain amount of API calls. This varies from service\n",
    "# to service, so you have to watch out to it \n",
    "\n",
    "f = open(\".secret/yelp_api.json\")\n",
    "MY_API_KEY = json.load(f)\n",
    "\n",
    "\n",
    "term = 'food'\n",
    "location = 'NYC'\n",
    "SEARCH_LIMIT = 40\n",
    "\n",
    "url = 'https://api.yelp.com/v3/businesses/search'\n",
    "\n",
    "headers = {\n",
    "        'Authorization': 'Bearer {}'.format(MY_API_KEY),\n",
    "    }\n",
    "\n",
    "url_params = {\n",
    "                'term': term,#.replace(' ', '+'),\n",
    "                'location': location,#.replace(' ', '+'),\n",
    "                'limit': SEARCH_LIMIT\n",
    "            }\n",
    "response = requests.get(url, headers=headers, params=url_params)\n",
    "\n",
    "\n",
    "food = json.loads(response.text)\n",
    "df = pd.DataFrame(food['businesses'])"
   ]
  },
  {
   "cell_type": "code",
   "execution_count": 42,
   "metadata": {
    "scrolled": true
   },
   "outputs": [
    {
     "data": {
      "text/plain": [
       "200"
      ]
     },
     "execution_count": 42,
     "metadata": {},
     "output_type": "execute_result"
    }
   ],
   "source": [
    "response.status_code"
   ]
  },
  {
   "cell_type": "code",
   "execution_count": 9,
   "metadata": {},
   "outputs": [
    {
     "data": {
      "text/html": [
       "<div>\n",
       "<style scoped>\n",
       "    .dataframe tbody tr th:only-of-type {\n",
       "        vertical-align: middle;\n",
       "    }\n",
       "\n",
       "    .dataframe tbody tr th {\n",
       "        vertical-align: top;\n",
       "    }\n",
       "\n",
       "    .dataframe thead th {\n",
       "        text-align: right;\n",
       "    }\n",
       "</style>\n",
       "<table border=\"1\" class=\"dataframe\">\n",
       "  <thead>\n",
       "    <tr style=\"text-align: right;\">\n",
       "      <th></th>\n",
       "      <th>id</th>\n",
       "      <th>alias</th>\n",
       "      <th>name</th>\n",
       "      <th>image_url</th>\n",
       "      <th>is_closed</th>\n",
       "      <th>url</th>\n",
       "      <th>review_count</th>\n",
       "      <th>categories</th>\n",
       "      <th>rating</th>\n",
       "      <th>coordinates</th>\n",
       "      <th>transactions</th>\n",
       "      <th>location</th>\n",
       "      <th>phone</th>\n",
       "      <th>display_phone</th>\n",
       "      <th>distance</th>\n",
       "      <th>price</th>\n",
       "      <th>longitude</th>\n",
       "      <th>latitude</th>\n",
       "      <th>geometry</th>\n",
       "    </tr>\n",
       "  </thead>\n",
       "  <tbody>\n",
       "    <tr>\n",
       "      <th>0</th>\n",
       "      <td>6ur9R2Fmr-7qXlNnyoclEg</td>\n",
       "      <td>blume-new-york</td>\n",
       "      <td>Blume</td>\n",
       "      <td>https://s3-media2.fl.yelpcdn.com/bphoto/YFmv_B...</td>\n",
       "      <td>False</td>\n",
       "      <td>https://www.yelp.com/biz/blume-new-york?adjust...</td>\n",
       "      <td>10</td>\n",
       "      <td>[{'alias': 'sandwiches', 'title': 'Sandwiches'...</td>\n",
       "      <td>4.5</td>\n",
       "      <td>{'latitude': 40.777565, 'longitude': -73.9517855}</td>\n",
       "      <td>[]</td>\n",
       "      <td>{'address1': '1652 2nd Ave', 'address2': '', '...</td>\n",
       "      <td>+16469810764</td>\n",
       "      <td>(646) 981-0764</td>\n",
       "      <td>8782.679221</td>\n",
       "      <td>NaN</td>\n",
       "      <td>-73.951785</td>\n",
       "      <td>40.777565</td>\n",
       "      <td>POINT (-73.95179 40.77757)</td>\n",
       "    </tr>\n",
       "    <tr>\n",
       "      <th>1</th>\n",
       "      <td>c0rwFLc_xk8AG0vitOiK5g</td>\n",
       "      <td>wadadli-jerk-brooklyn</td>\n",
       "      <td>Wadadli Jerk</td>\n",
       "      <td>https://s3-media2.fl.yelpcdn.com/bphoto/Dm4nbw...</td>\n",
       "      <td>False</td>\n",
       "      <td>https://www.yelp.com/biz/wadadli-jerk-brooklyn...</td>\n",
       "      <td>2</td>\n",
       "      <td>[{'alias': 'caribbean', 'title': 'Caribbean'},...</td>\n",
       "      <td>4.5</td>\n",
       "      <td>{'latitude': 40.684781, 'longitude': -73.944547}</td>\n",
       "      <td>[]</td>\n",
       "      <td>{'address1': '370 Tompkins Ave', 'address2': '...</td>\n",
       "      <td>+19176871508</td>\n",
       "      <td>(917) 687-1508</td>\n",
       "      <td>4782.117671</td>\n",
       "      <td>NaN</td>\n",
       "      <td>-73.944547</td>\n",
       "      <td>40.684781</td>\n",
       "      <td>POINT (-73.94455 40.68478)</td>\n",
       "    </tr>\n",
       "    <tr>\n",
       "      <th>2</th>\n",
       "      <td>X8ZS-dgiMIJvhwf9SaDnjw</td>\n",
       "      <td>wah-fung-no-1-new-york-2</td>\n",
       "      <td>Wah Fung No 1</td>\n",
       "      <td>https://s3-media3.fl.yelpcdn.com/bphoto/oMrite...</td>\n",
       "      <td>False</td>\n",
       "      <td>https://www.yelp.com/biz/wah-fung-no-1-new-yor...</td>\n",
       "      <td>1469</td>\n",
       "      <td>[{'alias': 'chinese', 'title': 'Chinese'}, {'a...</td>\n",
       "      <td>4.5</td>\n",
       "      <td>{'latitude': 40.71735, 'longitude': -73.99457}</td>\n",
       "      <td>[]</td>\n",
       "      <td>{'address1': '79 Chrystie St', 'address2': '',...</td>\n",
       "      <td>+12129255175</td>\n",
       "      <td>(212) 925-5175</td>\n",
       "      <td>1323.285181</td>\n",
       "      <td>$</td>\n",
       "      <td>-73.994570</td>\n",
       "      <td>40.717350</td>\n",
       "      <td>POINT (-73.99457 40.71735)</td>\n",
       "    </tr>\n",
       "    <tr>\n",
       "      <th>3</th>\n",
       "      <td>Ms3CAGddVbgetiQrpzqxPQ</td>\n",
       "      <td>hometown-bar-b-que-brooklyn-3</td>\n",
       "      <td>Hometown Bar-B-Que</td>\n",
       "      <td>https://s3-media3.fl.yelpcdn.com/bphoto/a5YpbH...</td>\n",
       "      <td>False</td>\n",
       "      <td>https://www.yelp.com/biz/hometown-bar-b-que-br...</td>\n",
       "      <td>1399</td>\n",
       "      <td>[{'alias': 'bbq', 'title': 'Barbeque'}, {'alia...</td>\n",
       "      <td>4.0</td>\n",
       "      <td>{'latitude': 40.6748965703426, 'longitude': -7...</td>\n",
       "      <td>[pickup, delivery]</td>\n",
       "      <td>{'address1': '454 Van Brunt St', 'address2': '...</td>\n",
       "      <td>+13472944644</td>\n",
       "      <td>(347) 294-4644</td>\n",
       "      <td>3860.435747</td>\n",
       "      <td>$$</td>\n",
       "      <td>-74.016049</td>\n",
       "      <td>40.674897</td>\n",
       "      <td>POINT (-74.01605 40.67490)</td>\n",
       "    </tr>\n",
       "    <tr>\n",
       "      <th>4</th>\n",
       "      <td>pqGGfA3Vm9srfTIJLgL0Ew</td>\n",
       "      <td>mamas-noodle-house-brooklyn-3</td>\n",
       "      <td>Mama's Noodle House</td>\n",
       "      <td>https://s3-media4.fl.yelpcdn.com/bphoto/HslXTc...</td>\n",
       "      <td>False</td>\n",
       "      <td>https://www.yelp.com/biz/mamas-noodle-house-br...</td>\n",
       "      <td>93</td>\n",
       "      <td>[{'alias': 'cantonese', 'title': 'Cantonese'},...</td>\n",
       "      <td>4.5</td>\n",
       "      <td>{'latitude': 40.6168614546041, 'longitude': -7...</td>\n",
       "      <td>[]</td>\n",
       "      <td>{'address1': '1782 Bay Ridge Ave', 'address2':...</td>\n",
       "      <td>+18489994918</td>\n",
       "      <td>(848) 999-4918</td>\n",
       "      <td>9850.578747</td>\n",
       "      <td>$</td>\n",
       "      <td>-73.993044</td>\n",
       "      <td>40.616861</td>\n",
       "      <td>POINT (-73.99304 40.61686)</td>\n",
       "    </tr>\n",
       "  </tbody>\n",
       "</table>\n",
       "</div>"
      ],
      "text/plain": [
       "                       id                          alias                 name  \\\n",
       "0  6ur9R2Fmr-7qXlNnyoclEg                 blume-new-york                Blume   \n",
       "1  c0rwFLc_xk8AG0vitOiK5g          wadadli-jerk-brooklyn         Wadadli Jerk   \n",
       "2  X8ZS-dgiMIJvhwf9SaDnjw       wah-fung-no-1-new-york-2        Wah Fung No 1   \n",
       "3  Ms3CAGddVbgetiQrpzqxPQ  hometown-bar-b-que-brooklyn-3   Hometown Bar-B-Que   \n",
       "4  pqGGfA3Vm9srfTIJLgL0Ew  mamas-noodle-house-brooklyn-3  Mama's Noodle House   \n",
       "\n",
       "                                           image_url  is_closed  \\\n",
       "0  https://s3-media2.fl.yelpcdn.com/bphoto/YFmv_B...      False   \n",
       "1  https://s3-media2.fl.yelpcdn.com/bphoto/Dm4nbw...      False   \n",
       "2  https://s3-media3.fl.yelpcdn.com/bphoto/oMrite...      False   \n",
       "3  https://s3-media3.fl.yelpcdn.com/bphoto/a5YpbH...      False   \n",
       "4  https://s3-media4.fl.yelpcdn.com/bphoto/HslXTc...      False   \n",
       "\n",
       "                                                 url  review_count  \\\n",
       "0  https://www.yelp.com/biz/blume-new-york?adjust...            10   \n",
       "1  https://www.yelp.com/biz/wadadli-jerk-brooklyn...             2   \n",
       "2  https://www.yelp.com/biz/wah-fung-no-1-new-yor...          1469   \n",
       "3  https://www.yelp.com/biz/hometown-bar-b-que-br...          1399   \n",
       "4  https://www.yelp.com/biz/mamas-noodle-house-br...            93   \n",
       "\n",
       "                                          categories  rating  \\\n",
       "0  [{'alias': 'sandwiches', 'title': 'Sandwiches'...     4.5   \n",
       "1  [{'alias': 'caribbean', 'title': 'Caribbean'},...     4.5   \n",
       "2  [{'alias': 'chinese', 'title': 'Chinese'}, {'a...     4.5   \n",
       "3  [{'alias': 'bbq', 'title': 'Barbeque'}, {'alia...     4.0   \n",
       "4  [{'alias': 'cantonese', 'title': 'Cantonese'},...     4.5   \n",
       "\n",
       "                                         coordinates        transactions  \\\n",
       "0  {'latitude': 40.777565, 'longitude': -73.9517855}                  []   \n",
       "1   {'latitude': 40.684781, 'longitude': -73.944547}                  []   \n",
       "2     {'latitude': 40.71735, 'longitude': -73.99457}                  []   \n",
       "3  {'latitude': 40.6748965703426, 'longitude': -7...  [pickup, delivery]   \n",
       "4  {'latitude': 40.6168614546041, 'longitude': -7...                  []   \n",
       "\n",
       "                                            location         phone  \\\n",
       "0  {'address1': '1652 2nd Ave', 'address2': '', '...  +16469810764   \n",
       "1  {'address1': '370 Tompkins Ave', 'address2': '...  +19176871508   \n",
       "2  {'address1': '79 Chrystie St', 'address2': '',...  +12129255175   \n",
       "3  {'address1': '454 Van Brunt St', 'address2': '...  +13472944644   \n",
       "4  {'address1': '1782 Bay Ridge Ave', 'address2':...  +18489994918   \n",
       "\n",
       "    display_phone     distance price  longitude   latitude  \\\n",
       "0  (646) 981-0764  8782.679221   NaN -73.951785  40.777565   \n",
       "1  (917) 687-1508  4782.117671   NaN -73.944547  40.684781   \n",
       "2  (212) 925-5175  1323.285181     $ -73.994570  40.717350   \n",
       "3  (347) 294-4644  3860.435747    $$ -74.016049  40.674897   \n",
       "4  (848) 999-4918  9850.578747     $ -73.993044  40.616861   \n",
       "\n",
       "                     geometry  \n",
       "0  POINT (-73.95179 40.77757)  \n",
       "1  POINT (-73.94455 40.68478)  \n",
       "2  POINT (-73.99457 40.71735)  \n",
       "3  POINT (-74.01605 40.67490)  \n",
       "4  POINT (-73.99304 40.61686)  "
      ]
     },
     "execution_count": 9,
     "metadata": {},
     "output_type": "execute_result"
    }
   ],
   "source": [
    "df.head()"
   ]
  },
  {
   "cell_type": "code",
   "execution_count": null,
   "metadata": {},
   "outputs": [],
   "source": []
  },
  {
   "cell_type": "code",
   "execution_count": null,
   "metadata": {},
   "outputs": [],
   "source": []
  },
  {
   "cell_type": "code",
   "execution_count": 43,
   "metadata": {},
   "outputs": [
    {
     "data": {
      "text/plain": [
       "<Response [200]>"
      ]
     },
     "execution_count": 43,
     "metadata": {},
     "output_type": "execute_result"
    }
   ],
   "source": [
    "# examine the response object\n",
    "response"
   ]
  },
  {
   "cell_type": "code",
   "execution_count": 7,
   "metadata": {},
   "outputs": [],
   "source": [
    "# json.load()\n",
    "# json.loads()\n",
    "\n",
    "# working with JSON\n",
    "food = json.loads(response.text)"
   ]
  },
  {
   "cell_type": "code",
   "execution_count": 8,
   "metadata": {},
   "outputs": [
    {
     "name": "stdout",
     "output_type": "stream",
     "text": [
      "businesses\n",
      "total\n",
      "region\n"
     ]
    }
   ],
   "source": [
    "# cleaning and exploring the data\n",
    "for key in food.keys():\n",
    "    print(key)"
   ]
  },
  {
   "cell_type": "code",
   "execution_count": 5,
   "metadata": {},
   "outputs": [
    {
     "data": {
      "text/plain": [
       "Text(0.5, 1.0, 'Food rating in NYC')"
      ]
     },
     "execution_count": 5,
     "metadata": {},
     "output_type": "execute_result"
    },
    {
     "data": {
      "image/png": "[encoded data removed]",
      "text/plain": [
       "<Figure size 432x288 with 1 Axes>"
      ]
     },
     "metadata": {
      "needs_background": "light"
     },
     "output_type": "display_data"
    }
   ],
   "source": [
    "# let's turn the things we need into a pandas dataframe\n",
    "df.rating.hist()\n",
    "plt.title('Food rating in NYC')"
   ]
  },
  {
   "cell_type": "code",
   "execution_count": 34,
   "metadata": {
    "scrolled": true
   },
   "outputs": [
    {
     "data": {
      "text/html": [
       "<div>\n",
       "<style scoped>\n",
       "    .dataframe tbody tr th:only-of-type {\n",
       "        vertical-align: middle;\n",
       "    }\n",
       "\n",
       "    .dataframe tbody tr th {\n",
       "        vertical-align: top;\n",
       "    }\n",
       "\n",
       "    .dataframe thead th {\n",
       "        text-align: right;\n",
       "    }\n",
       "</style>\n",
       "<table border=\"1\" class=\"dataframe\">\n",
       "  <thead>\n",
       "    <tr style=\"text-align: right;\">\n",
       "      <th></th>\n",
       "      <th>BoroCode</th>\n",
       "      <th>BoroName</th>\n",
       "      <th>Shape_Leng</th>\n",
       "      <th>Shape_Area</th>\n",
       "      <th>geometry</th>\n",
       "    </tr>\n",
       "  </thead>\n",
       "  <tbody>\n",
       "    <tr>\n",
       "      <th>0</th>\n",
       "      <td>5</td>\n",
       "      <td>Staten Island</td>\n",
       "      <td>330470.010332</td>\n",
       "      <td>1.623820e+09</td>\n",
       "      <td>MULTIPOLYGON (((-8243264.851 4948597.836, -824...</td>\n",
       "    </tr>\n",
       "    <tr>\n",
       "      <th>1</th>\n",
       "      <td>4</td>\n",
       "      <td>Queens</td>\n",
       "      <td>896344.047763</td>\n",
       "      <td>3.045213e+09</td>\n",
       "      <td>MULTIPOLYGON (((-8219461.925 4952778.732, -821...</td>\n",
       "    </tr>\n",
       "    <tr>\n",
       "      <th>2</th>\n",
       "      <td>3</td>\n",
       "      <td>Brooklyn</td>\n",
       "      <td>741080.523166</td>\n",
       "      <td>1.937479e+09</td>\n",
       "      <td>MULTIPOLYGON (((-8222843.672 4950893.793, -822...</td>\n",
       "    </tr>\n",
       "    <tr>\n",
       "      <th>3</th>\n",
       "      <td>1</td>\n",
       "      <td>Manhattan</td>\n",
       "      <td>359299.096471</td>\n",
       "      <td>6.364715e+08</td>\n",
       "      <td>MULTIPOLYGON (((-8238858.864 4965915.024, -823...</td>\n",
       "    </tr>\n",
       "    <tr>\n",
       "      <th>4</th>\n",
       "      <td>2</td>\n",
       "      <td>Bronx</td>\n",
       "      <td>464392.991824</td>\n",
       "      <td>1.186925e+09</td>\n",
       "      <td>MULTIPOLYGON (((-8226155.130 4982269.949, -822...</td>\n",
       "    </tr>\n",
       "  </tbody>\n",
       "</table>\n",
       "</div>"
      ],
      "text/plain": [
       "   BoroCode       BoroName     Shape_Leng    Shape_Area  \\\n",
       "0         5  Staten Island  330470.010332  1.623820e+09   \n",
       "1         4         Queens  896344.047763  3.045213e+09   \n",
       "2         3       Brooklyn  741080.523166  1.937479e+09   \n",
       "3         1      Manhattan  359299.096471  6.364715e+08   \n",
       "4         2          Bronx  464392.991824  1.186925e+09   \n",
       "\n",
       "                                            geometry  \n",
       "0  MULTIPOLYGON (((-8243264.851 4948597.836, -824...  \n",
       "1  MULTIPOLYGON (((-8219461.925 4952778.732, -821...  \n",
       "2  MULTIPOLYGON (((-8222843.672 4950893.793, -822...  \n",
       "3  MULTIPOLYGON (((-8238858.864 4965915.024, -823...  \n",
       "4  MULTIPOLYGON (((-8226155.130 4982269.949, -822...  "
      ]
     },
     "execution_count": 34,
     "metadata": {},
     "output_type": "execute_result"
    }
   ],
   "source": [
    "df_ny = gpd.read_file(gpd.datasets.get_path('nybb'))\n",
    "df_ny.to_crs(epsg=3857)"
   ]
  },
  {
   "cell_type": "code",
   "execution_count": 13,
   "metadata": {},
   "outputs": [
    {
     "data": {
      "text/html": [
       "<div>\n",
       "<style scoped>\n",
       "    .dataframe tbody tr th:only-of-type {\n",
       "        vertical-align: middle;\n",
       "    }\n",
       "\n",
       "    .dataframe tbody tr th {\n",
       "        vertical-align: top;\n",
       "    }\n",
       "\n",
       "    .dataframe thead th {\n",
       "        text-align: right;\n",
       "    }\n",
       "</style>\n",
       "<table border=\"1\" class=\"dataframe\">\n",
       "  <thead>\n",
       "    <tr style=\"text-align: right;\">\n",
       "      <th></th>\n",
       "      <th>id</th>\n",
       "      <th>alias</th>\n",
       "      <th>name</th>\n",
       "      <th>image_url</th>\n",
       "      <th>is_closed</th>\n",
       "      <th>url</th>\n",
       "      <th>review_count</th>\n",
       "      <th>categories</th>\n",
       "      <th>rating</th>\n",
       "      <th>coordinates</th>\n",
       "      <th>transactions</th>\n",
       "      <th>location</th>\n",
       "      <th>phone</th>\n",
       "      <th>display_phone</th>\n",
       "      <th>distance</th>\n",
       "      <th>price</th>\n",
       "    </tr>\n",
       "  </thead>\n",
       "  <tbody>\n",
       "    <tr>\n",
       "      <th>0</th>\n",
       "      <td>6ur9R2Fmr-7qXlNnyoclEg</td>\n",
       "      <td>blume-new-york</td>\n",
       "      <td>Blume</td>\n",
       "      <td>https://s3-media2.fl.yelpcdn.com/bphoto/YFmv_B...</td>\n",
       "      <td>False</td>\n",
       "      <td>https://www.yelp.com/biz/blume-new-york?adjust...</td>\n",
       "      <td>10</td>\n",
       "      <td>[{'alias': 'sandwiches', 'title': 'Sandwiches'...</td>\n",
       "      <td>4.5</td>\n",
       "      <td>{'latitude': 40.777565, 'longitude': -73.9517855}</td>\n",
       "      <td>[]</td>\n",
       "      <td>{'address1': '1652 2nd Ave', 'address2': '', '...</td>\n",
       "      <td>+16469810764</td>\n",
       "      <td>(646) 981-0764</td>\n",
       "      <td>8782.679221</td>\n",
       "      <td>NaN</td>\n",
       "    </tr>\n",
       "    <tr>\n",
       "      <th>1</th>\n",
       "      <td>c0rwFLc_xk8AG0vitOiK5g</td>\n",
       "      <td>wadadli-jerk-brooklyn</td>\n",
       "      <td>Wadadli Jerk</td>\n",
       "      <td>https://s3-media2.fl.yelpcdn.com/bphoto/Dm4nbw...</td>\n",
       "      <td>False</td>\n",
       "      <td>https://www.yelp.com/biz/wadadli-jerk-brooklyn...</td>\n",
       "      <td>2</td>\n",
       "      <td>[{'alias': 'caribbean', 'title': 'Caribbean'},...</td>\n",
       "      <td>4.5</td>\n",
       "      <td>{'latitude': 40.684781, 'longitude': -73.944547}</td>\n",
       "      <td>[]</td>\n",
       "      <td>{'address1': '370 Tompkins Ave', 'address2': '...</td>\n",
       "      <td>+19176871508</td>\n",
       "      <td>(917) 687-1508</td>\n",
       "      <td>4782.117671</td>\n",
       "      <td>NaN</td>\n",
       "    </tr>\n",
       "    <tr>\n",
       "      <th>2</th>\n",
       "      <td>Ms3CAGddVbgetiQrpzqxPQ</td>\n",
       "      <td>hometown-bar-b-que-brooklyn-3</td>\n",
       "      <td>Hometown Bar-B-Que</td>\n",
       "      <td>https://s3-media3.fl.yelpcdn.com/bphoto/a5YpbH...</td>\n",
       "      <td>False</td>\n",
       "      <td>https://www.yelp.com/biz/hometown-bar-b-que-br...</td>\n",
       "      <td>1399</td>\n",
       "      <td>[{'alias': 'bbq', 'title': 'Barbeque'}, {'alia...</td>\n",
       "      <td>4.0</td>\n",
       "      <td>{'latitude': 40.6748965703426, 'longitude': -7...</td>\n",
       "      <td>[pickup, delivery]</td>\n",
       "      <td>{'address1': '454 Van Brunt St', 'address2': '...</td>\n",
       "      <td>+13472944644</td>\n",
       "      <td>(347) 294-4644</td>\n",
       "      <td>3860.435747</td>\n",
       "      <td>$$</td>\n",
       "    </tr>\n",
       "    <tr>\n",
       "      <th>3</th>\n",
       "      <td>jnEv25Y2DosTq2sNnvmC9g</td>\n",
       "      <td>los-tacos-no-1-new-york</td>\n",
       "      <td>Los Tacos No.1</td>\n",
       "      <td>https://s3-media2.fl.yelpcdn.com/bphoto/FU44TY...</td>\n",
       "      <td>False</td>\n",
       "      <td>https://www.yelp.com/biz/los-tacos-no-1-new-yo...</td>\n",
       "      <td>3022</td>\n",
       "      <td>[{'alias': 'tacos', 'title': 'Tacos'}]</td>\n",
       "      <td>4.5</td>\n",
       "      <td>{'latitude': 40.7425547, 'longitude': -74.0060...</td>\n",
       "      <td>[]</td>\n",
       "      <td>{'address1': '75 9th Ave', 'address2': '', 'ad...</td>\n",
       "      <td></td>\n",
       "      <td></td>\n",
       "      <td>4244.358699</td>\n",
       "      <td>$</td>\n",
       "    </tr>\n",
       "    <tr>\n",
       "      <th>4</th>\n",
       "      <td>pqGGfA3Vm9srfTIJLgL0Ew</td>\n",
       "      <td>mamas-noodle-house-brooklyn-3</td>\n",
       "      <td>Mama's Noodle House</td>\n",
       "      <td>https://s3-media4.fl.yelpcdn.com/bphoto/HslXTc...</td>\n",
       "      <td>False</td>\n",
       "      <td>https://www.yelp.com/biz/mamas-noodle-house-br...</td>\n",
       "      <td>93</td>\n",
       "      <td>[{'alias': 'cantonese', 'title': 'Cantonese'},...</td>\n",
       "      <td>4.5</td>\n",
       "      <td>{'latitude': 40.6168614546041, 'longitude': -7...</td>\n",
       "      <td>[]</td>\n",
       "      <td>{'address1': '1782 Bay Ridge Ave', 'address2':...</td>\n",
       "      <td>+18489994918</td>\n",
       "      <td>(848) 999-4918</td>\n",
       "      <td>9850.578747</td>\n",
       "      <td>$</td>\n",
       "    </tr>\n",
       "  </tbody>\n",
       "</table>\n",
       "</div>"
      ],
      "text/plain": [
       "                       id                          alias                 name  \\\n",
       "0  6ur9R2Fmr-7qXlNnyoclEg                 blume-new-york                Blume   \n",
       "1  c0rwFLc_xk8AG0vitOiK5g          wadadli-jerk-brooklyn         Wadadli Jerk   \n",
       "2  Ms3CAGddVbgetiQrpzqxPQ  hometown-bar-b-que-brooklyn-3   Hometown Bar-B-Que   \n",
       "3  jnEv25Y2DosTq2sNnvmC9g        los-tacos-no-1-new-york       Los Tacos No.1   \n",
       "4  pqGGfA3Vm9srfTIJLgL0Ew  mamas-noodle-house-brooklyn-3  Mama's Noodle House   \n",
       "\n",
       "                                           image_url  is_closed  \\\n",
       "0  https://s3-media2.fl.yelpcdn.com/bphoto/YFmv_B...      False   \n",
       "1  https://s3-media2.fl.yelpcdn.com/bphoto/Dm4nbw...      False   \n",
       "2  https://s3-media3.fl.yelpcdn.com/bphoto/a5YpbH...      False   \n",
       "3  https://s3-media2.fl.yelpcdn.com/bphoto/FU44TY...      False   \n",
       "4  https://s3-media4.fl.yelpcdn.com/bphoto/HslXTc...      False   \n",
       "\n",
       "                                                 url  review_count  \\\n",
       "0  https://www.yelp.com/biz/blume-new-york?adjust...            10   \n",
       "1  https://www.yelp.com/biz/wadadli-jerk-brooklyn...             2   \n",
       "2  https://www.yelp.com/biz/hometown-bar-b-que-br...          1399   \n",
       "3  https://www.yelp.com/biz/los-tacos-no-1-new-yo...          3022   \n",
       "4  https://www.yelp.com/biz/mamas-noodle-house-br...            93   \n",
       "\n",
       "                                          categories  rating  \\\n",
       "0  [{'alias': 'sandwiches', 'title': 'Sandwiches'...     4.5   \n",
       "1  [{'alias': 'caribbean', 'title': 'Caribbean'},...     4.5   \n",
       "2  [{'alias': 'bbq', 'title': 'Barbeque'}, {'alia...     4.0   \n",
       "3             [{'alias': 'tacos', 'title': 'Tacos'}]     4.5   \n",
       "4  [{'alias': 'cantonese', 'title': 'Cantonese'},...     4.5   \n",
       "\n",
       "                                         coordinates        transactions  \\\n",
       "0  {'latitude': 40.777565, 'longitude': -73.9517855}                  []   \n",
       "1   {'latitude': 40.684781, 'longitude': -73.944547}                  []   \n",
       "2  {'latitude': 40.6748965703426, 'longitude': -7...  [pickup, delivery]   \n",
       "3  {'latitude': 40.7425547, 'longitude': -74.0060...                  []   \n",
       "4  {'latitude': 40.6168614546041, 'longitude': -7...                  []   \n",
       "\n",
       "                                            location         phone  \\\n",
       "0  {'address1': '1652 2nd Ave', 'address2': '', '...  +16469810764   \n",
       "1  {'address1': '370 Tompkins Ave', 'address2': '...  +19176871508   \n",
       "2  {'address1': '454 Van Brunt St', 'address2': '...  +13472944644   \n",
       "3  {'address1': '75 9th Ave', 'address2': '', 'ad...                 \n",
       "4  {'address1': '1782 Bay Ridge Ave', 'address2':...  +18489994918   \n",
       "\n",
       "    display_phone     distance price  \n",
       "0  (646) 981-0764  8782.679221   NaN  \n",
       "1  (917) 687-1508  4782.117671   NaN  \n",
       "2  (347) 294-4644  3860.435747    $$  \n",
       "3                  4244.358699     $  \n",
       "4  (848) 999-4918  9850.578747     $  "
      ]
     },
     "execution_count": 13,
     "metadata": {},
     "output_type": "execute_result"
    }
   ],
   "source": [
    "df.head()"
   ]
  },
  {
   "cell_type": "code",
   "execution_count": 7,
   "metadata": {
    "scrolled": true
   },
   "outputs": [],
   "source": [
    "df['longitude']=df.coordinates.map(lambda x: x['longitude'])\n",
    "df['latitude']=df.coordinates.map(lambda x: x['latitude'])\n",
    "\n",
    "gdf = gpd.GeoDataFrame(df,geometry=gpd.points_from_xy(df.longitude, df.latitude))\n",
    "nyc = gpd.read_file(\"Borough Boundaries.geojson\")"
   ]
  },
  {
   "cell_type": "code",
   "execution_count": 26,
   "metadata": {},
   "outputs": [
    {
     "data": {
      "image/png": "[encoded data removed]",
      "text/plain": [
       "<Figure size 576x432 with 1 Axes>"
      ]
     },
     "metadata": {
      "needs_background": "light"
     },
     "output_type": "display_data"
    }
   ],
   "source": [
    "ax = nyc.plot(color='white', edgecolor='black',figsize=(8,6))\n",
    "\n",
    "# We can now plot our ``GeoDataFrame``.\n",
    "gdf.plot(ax=ax, color='red')\n",
    "plt.title('location of food restaurant in NYC')\n",
    "plt.show()"
   ]
  },
  {
   "cell_type": "code",
   "execution_count": 8,
   "metadata": {},
   "outputs": [
    {
     "data": {
      "image/png": "[encoded data removed]",
      "text/plain": [
       "<Figure size 576x432 with 1 Axes>"
      ]
     },
     "metadata": {
      "needs_background": "light"
     },
     "output_type": "display_data"
    }
   ],
   "source": [
    "#new york city shapefiles, NYC Open Data\n",
    "\n",
    "#nyc.to_crs(\"EPSG:3395\")\n",
    "#gdf.to_crs(\"EPSG:4326\")\n",
    "ax = nyc.plot(color='white', edgecolor='black',figsize=(8,6))\n",
    "\n",
    "# We can now plot our ``GeoDataFrame``.\n",
    "gdf.plot(ax=ax, color='red')\n",
    "plt.title('location of food restaurant in NYC')\n",
    "plt.show()"
   ]
  },
  {
   "cell_type": "code",
   "execution_count": null,
   "metadata": {},
   "outputs": [],
   "source": []
  },
  {
   "cell_type": "code",
   "execution_count": null,
   "metadata": {},
   "outputs": [],
   "source": []
  },
  {
   "cell_type": "markdown",
   "metadata": {},
   "source": [
    "#### Resources\n",
    "- [Getting Data from Reddit API](https://www.storybench.org/how-to-scrape-reddit-with-python/)\n",
    "- [Twitch API](https://dev.twitch.tv/docs)"
   ]
  }
 ],
 "metadata": {
  "kernelspec": {
   "display_name": "learn-env",
   "language": "python",
   "name": "learn-env"
  },
  "language_info": {
   "codemirror_mode": {
    "name": "ipython",
    "version": 3
   },
   "file_extension": ".py",
   "mimetype": "text/x-python",
   "name": "python",
   "nbconvert_exporter": "python",
   "pygments_lexer": "ipython3",
   "version": "3.8.5"
  }
 },
 "nbformat": 4,
 "nbformat_minor": 4
}
